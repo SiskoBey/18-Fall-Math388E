{
 "cells": [
  {
   "cell_type": "markdown",
   "metadata": {},
   "source": [
    "# Lecture 12: Neural Networks (continued)\n",
    "\n",
    "We have seen a few implementations of neural networks in [lecture 11](https://github.com/kaygun/18-Fall-Math388E/tree/master/lecture-11) and I did a detailed treatment of [perceptrons](https://www.cs.cmu.edu/afs/cs.cmu.edu/academic/class/15381-f01/www/handouts/110601.pdf) (these are the building blocks of neural networks) in [lecture 10](https://github.com/kaygun/18-Fall-Math388E/tree/master/lecture-10).  Today, I will dig deeper into neural networks and how they work:\n",
    "\n",
    "Let us start with a simple example: assume we have a neural network with a 6 dimensional input, two hidden layers one with 4 nodes and next with 3 node, and finally a 1 dimensional output layer.\n",
    "\n",
    "![example neural network](images/example-network.png)\n",
    "\n",
    "(Source: [Computer Science Wiki](https://computersciencewiki.org/index.php/Multi-layer_perceptron_(MLP)))\n",
    "\n",
    "If we label inputs as $(x_1,\\ldots,x_6)$ then the computation for outputs $(y_1,\\ldots,y_4)$ for the first layer would be given by \n",
    "\n",
    "$$ y_j = \\sigma\\left(\\sum_{i=1}^6 w^1_{ji} x_i\\right) $$\n",
    "\n",
    "where $\\sigma$ refers to the activation function of the nodes labelled by $j=1,2,3,4$. For simplicity, we assume all perceptrons have the same activation function $\\sigma$.  And the numbers $w^1_{ij}$ refer to the weights associated with each connection between $x_i$ and $y_j$ for $i=1,\\ldots,6$ and $j=1,\\ldots,4$.\n",
    "\n",
    "Passing from layer 1 to layer 2, the computation follows\n",
    "\n",
    "$$ z_k = \\sigma\\left(\\sum_{j=1}^4 w^2_{kj} y_j\\right) $$\n",
    "\n",
    "Again, the numbers $w^2_{kj}$ (this is **NOT** a square) refer to the weights associated with each connection between $y_j$ and $z_k$ for $j=1,\\ldots,4$ and $k=1,2,3$.\n",
    "\n",
    "And the for final output layer we have\n",
    "\n",
    "$$ out = \\sigma\\left(\\sum_{k=1}^3 w^3_{k} z_k \\right) $$\n",
    "\n",
    "Notice that the computation resembles matrix multiplication, and if we did not have the activation function, this is just a sequence of matrix multiplications.  The activation function provides us a crutial non-linearity and allows us to model non-linear function, not just linear ones.\n",
    "\n",
    "I have shown you several examples of such networks and their presentation in [keras](https://keras.io/) in the previous lecture.  Following those examples, we would implement such a network as follows:"
   ]
  },
  {
   "cell_type": "code",
   "execution_count": 1,
   "metadata": {},
   "outputs": [
    {
     "name": "stderr",
     "output_type": "stream",
     "text": [
      "Using TensorFlow backend.\n"
     ]
    }
   ],
   "source": [
    "import numpy as np\n",
    "import tensorflow as tf\n",
    "import keras\n",
    "from keras.models import Sequential\n",
    "from keras.layers import Dense, Conv2D, Dropout, Activation, MaxPooling2D, Flatten"
   ]
  },
  {
   "cell_type": "code",
   "execution_count": 2,
   "metadata": {},
   "outputs": [],
   "source": [
    "model = Sequential()\n",
    "model.add(Dense(4, input_shape=(6,), activation='tanh'))\n",
    "model.add(Dense(4, activation='tanh'))\n",
    "model.add(Dense(1, activation='tanh'))"
   ]
  },
  {
   "cell_type": "markdown",
   "metadata": {},
   "source": [
    "Here we used the same activation function $tanh(x) = \\frac{e^x-e^{-x}}{e^x+e^{-x}}$.\n",
    "\n",
    "The phase of the computation from input layer to the output layer is called *feed-forward*. In the feed-forward phase we assume we have the correct weights for the connections between the nodes.  However, the output we get and the target value we needed to produce may not be the same. So, we need to adjust the weights $w^\\ell_{ij}$ in such a way that the difference between the targeted output and actual ouput is narrowed.  This procedure is called *back-propagation*.\n",
    "\n",
    "I explained in [lecture 10](https://github.com/kaygun/18-Fall-Math388E/blob/master/lecture-10/lecture-10.ipynb) how back-propagation works.\n",
    "\n",
    "When we train the network, we feed-forward and input $(x_1,\\ldots,x_6)$ and then calculate $\\delta$ the difference between the result of the feed-forward operation and the targeted output.  Then we back-propagate this $\\delta$ over the network. Then we move onto the next input, and repeat.\n",
    "\n",
    "I showed several examples of these steps in [lecture 11](https://github.com/kaygun/18-Fall-Math388E/tree/master/lecture-11).\n",
    "\n",
    "\n",
    "In practice, the input dimension can be very large and the number of layers can also be large.  Here we used a very simple network topology where every node on each layer are connected.  Such networks are called *fully connected*.  Also, in this example, there is no [dropout](http://jmlr.org/papers/volume15/srivastava14a.old/srivastava14a.pdf) or [recurrence](http://karpathy.github.io/2015/05/21/rnn-effectiveness/) or [convolution](http://deeplearning.stanford.edu/tutorial/supervised/ConvolutionalNeuralNetwork/).\n",
    "\n",
    "There is [a large number](http://www.asimovinstitute.org/neural-network-zoo/) of different topologies and different types of perceptrons.  Please check [this link](http://www.asimovinstitute.org/neural-network-zoo/) to acquaint yourselves with these different options.\n",
    "\n",
    "Today, I am going to go over two such variations:\n",
    "\n",
    "## Convolutional networks\n",
    "\n",
    "[Convolution](https://en.wikipedia.org/wiki/Convolution) is a binary operation between two functions that crates a third function that resembles both of the input functions. \n",
    "\n",
    "![convolution](images/convolution.gif)\n",
    "\n",
    "(Source: [Wikipedia](https://en.wikipedia.org/wiki/Convolution))\n",
    "\n",
    "The main idea is that if one of these function is badly behaved (such as discontinuous, or non-differentiable) and the other is nice (continuous, differentiable, smooth) the resulting function imparts the shape of the original bad function, and the *niceness* properties of the second function.\n",
    "\n",
    "[Convolutional networks](http://cs231n.github.io/convolutional-networks/) use this idea but they use a [discrete multivariate version](https://en.wikipedia.org/wiki/Multidimensional_discrete_convolution): their inputs are discrete sequences (or arrays, or tensors)\n",
    "\n",
    "$$ (x*y)_t = \\sum_{i=1}^n x_{t-i} y_i $$\n",
    "\n",
    "Instead of using the summation operation, one can use *max* operation $x\\vee y = \\max(x,y)$ which is both unital (if the inputs are positive) and associative\n",
    "\n",
    "$$ (x\\vee 0) = (0\\vee x) = x \\qquad x\\vee (y\\vee z) = (x\\vee y) \\vee z $$\n",
    "\n",
    "Then we get another type of a convolution\n",
    "\n",
    "$$ (x*y)_t =\\bigvee_{i=1}^n x_{t-i} y_i $$\n",
    "\n",
    "which is also called *max-pooling*.  \n",
    "\n",
    "\n",
    "One of the places where discrete convolution operation is used is in [image processing](https://en.wikipedia.org/wiki/Kernel_(image_processing)).  So, it is not a big surprise that [convolutional networks](https://en.wikipedia.org/wiki/Convolutional_neural_network) are also used in image processing and image classification tasks.\n",
    "\n",
    "Today, we are going to build a convolutional neural network in keras to identify faces. We are going to use [the Olivetti dataset of faces](https://scikit-learn.org/stable/modules/generated/sklearn.datasets.fetch_olivetti_faces.html) from [scikit-learn](https://scikit-learn.org/stable/index.html)."
   ]
  },
  {
   "cell_type": "code",
   "execution_count": 3,
   "metadata": {},
   "outputs": [],
   "source": [
    "import matplotlib.pyplot as plt\n",
    "import matplotlib.image as mpimg\n",
    "\n",
    "from sklearn import datasets\n",
    "from sklearn.model_selection import train_test_split\n",
    "faces = datasets.fetch_olivetti_faces(data_home=\"data\")"
   ]
  },
  {
   "cell_type": "markdown",
   "metadata": {},
   "source": [
    "OK. We fetched the data. Now, let us see few random faces. Not that we need it, but just for fun."
   ]
  },
  {
   "cell_type": "code",
   "execution_count": 4,
   "metadata": {},
   "outputs": [
    {
     "data": {
      "text/plain": [
       "<matplotlib.image.AxesImage at 0x7f8155c1e050>"
      ]
     },
     "execution_count": 4,
     "metadata": {},
     "output_type": "execute_result"
    },
    {
     "data": {
      "image/png": "[encoded data removed]",
      "text/plain": [
       "<Figure size 432x288 with 1 Axes>"
      ]
     },
     "metadata": {
      "needs_background": "light"
     },
     "output_type": "display_data"
    }
   ],
   "source": [
    "N = len(faces.images)\n",
    "plt.imshow(faces.images[np.random.randint(N)])"
   ]
  },
  {
   "cell_type": "markdown",
   "metadata": {},
   "source": [
    "Each picture has size 64x64 pixels, each pixel value ranges between 0 and 1: 0 indicating black and 1.0 indicating bright white with various levels of grays in between:"
   ]
  },
  {
   "cell_type": "code",
   "execution_count": 5,
   "metadata": {},
   "outputs": [
    {
     "name": "stdout",
     "output_type": "stream",
     "text": [
      "[[0.45454547 0.47107437 0.5123967  ... 0.19008264 0.18595041 0.18595041]\n",
      " [0.446281   0.48347107 0.5206612  ... 0.21487603 0.2107438  0.2107438 ]\n",
      " [0.49586776 0.5165289  0.53305787 ... 0.20247933 0.20661157 0.20661157]\n",
      " ...\n",
      " [0.77272725 0.78099173 0.7933884  ... 0.1446281  0.1446281  0.1446281 ]\n",
      " [0.77272725 0.7768595  0.7892562  ... 0.13636364 0.13636364 0.13636364]\n",
      " [0.7644628  0.7892562  0.78099173 ... 0.15289256 0.15289256 0.15289256]]\n",
      "(64, 64)\n"
     ]
    }
   ],
   "source": [
    "print(faces.images[1])\n",
    "print(faces.images[1].shape)"
   ]
  },
  {
   "cell_type": "markdown",
   "metadata": {},
   "source": [
    "The array `faces.target` identifies each image with a spefic person. There are 40 different individual and each individual has 10 pictures each.  Since we need to write one classifier for each individual, these integers has to be converted into 40 dimensional vectors each containing all 0's and one 1 indicating which individual is targeted with that vector:"
   ]
  },
  {
   "cell_type": "code",
   "execution_count": 6,
   "metadata": {},
   "outputs": [
    {
     "name": "stdout",
     "output_type": "stream",
     "text": [
      "[ 0  0  0  0  0  0  0  0  0  0  1  1  1  1  1  1  1  1  1  1  2  2  2  2\n",
      "  2  2  2  2  2  2  3  3  3  3  3  3  3  3  3  3  4  4  4  4  4  4  4  4\n",
      "  4  4  5  5  5  5  5  5  5  5  5  5  6  6  6  6  6  6  6  6  6  6  7  7\n",
      "  7  7  7  7  7  7  7  7  8  8  8  8  8  8  8  8  8  8  9  9  9  9  9  9\n",
      "  9  9  9  9 10 10 10 10 10 10 10 10 10 10 11 11 11 11 11 11 11 11 11 11\n",
      " 12 12 12 12 12 12 12 12 12 12 13 13 13 13 13 13 13 13 13 13 14 14 14 14\n",
      " 14 14 14 14 14 14 15 15 15 15 15 15 15 15 15 15 16 16 16 16 16 16 16 16\n",
      " 16 16 17 17 17 17 17 17 17 17 17 17 18 18 18 18 18 18 18 18 18 18 19 19\n",
      " 19 19 19 19 19 19 19 19 20 20 20 20 20 20 20 20 20 20 21 21 21 21 21 21\n",
      " 21 21 21 21 22 22 22 22 22 22 22 22 22 22 23 23 23 23 23 23 23 23 23 23\n",
      " 24 24 24 24 24 24 24 24 24 24 25 25 25 25 25 25 25 25 25 25 26 26 26 26\n",
      " 26 26 26 26 26 26 27 27 27 27 27 27 27 27 27 27 28 28 28 28 28 28 28 28\n",
      " 28 28 29 29 29 29 29 29 29 29 29 29 30 30 30 30 30 30 30 30 30 30 31 31\n",
      " 31 31 31 31 31 31 31 31 32 32 32 32 32 32 32 32 32 32 33 33 33 33 33 33\n",
      " 33 33 33 33 34 34 34 34 34 34 34 34 34 34 35 35 35 35 35 35 35 35 35 35\n",
      " 36 36 36 36 36 36 36 36 36 36 37 37 37 37 37 37 37 37 37 37 38 38 38 38\n",
      " 38 38 38 38 38 38 39 39 39 39 39 39 39 39 39 39]\n",
      "[[1. 0. 0. ... 0. 0. 0.]\n",
      " [1. 0. 0. ... 0. 0. 0.]\n",
      " [1. 0. 0. ... 0. 0. 0.]\n",
      " ...\n",
      " [0. 0. 0. ... 0. 0. 1.]\n",
      " [0. 0. 0. ... 0. 0. 1.]\n",
      " [0. 0. 0. ... 0. 0. 1.]]\n"
     ]
    }
   ],
   "source": [
    "print(faces.target)\n",
    "ys = keras.utils.to_categorical(faces.target)\n",
    "print(ys)"
   ]
  },
  {
   "cell_type": "markdown",
   "metadata": {},
   "source": [
    "Our task is to build a convolutional network that will predict these labels from the pictures, i.e. we are going to build a function that takes a picture as an input and produces an integer between 0 and 39 (inclusive) identifying that individual.\n",
    "\n",
    "First, we are going to split the data into a test and train sets. "
   ]
  },
  {
   "cell_type": "code",
   "execution_count": 7,
   "metadata": {},
   "outputs": [],
   "source": [
    "x_train, x_test, y_train, y_test = train_test_split(faces.data, ys, test_size=0.25)"
   ]
  },
  {
   "cell_type": "markdown",
   "metadata": {},
   "source": [
    "Let us start building our network: first layer has 64x64 = 4096 dimensional input. I am going to make our first layer a big convolutional one (with 128 nodes) with a kernel of size 4x4-pixels, and with $tanh(x)$ as the activation function:"
   ]
  },
  {
   "cell_type": "code",
   "execution_count": 8,
   "metadata": {},
   "outputs": [],
   "source": [
    "model = Sequential()\n",
    "model.add(Conv2D(128, (4,4), input_shape=(64,64,1,), activation='tanh'))"
   ]
  },
  {
   "cell_type": "markdown",
   "metadata": {},
   "source": [
    "Next, let us add a fully connected layer with a dropout rate of 25%"
   ]
  },
  {
   "cell_type": "code",
   "execution_count": 9,
   "metadata": {},
   "outputs": [],
   "source": [
    "model.add(Dense(64,activation='relu'))\n",
    "model.add(Dropout(0.25))"
   ]
  },
  {
   "cell_type": "markdown",
   "metadata": {},
   "source": [
    "Next, let us add a max-pooling filter to this layer"
   ]
  },
  {
   "cell_type": "code",
   "execution_count": 10,
   "metadata": {},
   "outputs": [],
   "source": [
    "model.add(MaxPooling2D(pool_size=(3,3)))"
   ]
  },
  {
   "cell_type": "markdown",
   "metadata": {},
   "source": [
    "We are going to flatten the image and then send it to the output layer."
   ]
  },
  {
   "cell_type": "code",
   "execution_count": 11,
   "metadata": {},
   "outputs": [],
   "source": [
    "model.add(Flatten())\n",
    "model.add(Dense(40, activation='sigmoid'))"
   ]
  },
  {
   "cell_type": "markdown",
   "metadata": {},
   "source": [
    "Now, let us compile the model and then train it:"
   ]
  },
  {
   "cell_type": "code",
   "execution_count": 14,
   "metadata": {},
   "outputs": [
    {
     "name": "stdout",
     "output_type": "stream",
     "text": [
      "Epoch 1/12\n",
      "300/300 [==============================] - 4s 12ms/step - loss: 0.7907 - acc: 0.8433\n",
      "Epoch 2/12\n",
      "300/300 [==============================] - 4s 12ms/step - loss: 0.0211 - acc: 1.0000\n",
      "Epoch 3/12\n",
      "300/300 [==============================] - 4s 12ms/step - loss: 0.0101 - acc: 1.0000\n",
      "Epoch 4/12\n",
      "300/300 [==============================] - 4s 12ms/step - loss: 0.0058 - acc: 1.0000\n",
      "Epoch 5/12\n",
      "300/300 [==============================] - 4s 12ms/step - loss: 0.0040 - acc: 1.0000\n",
      "Epoch 6/12\n",
      "300/300 [==============================] - 4s 12ms/step - loss: 0.0022 - acc: 1.0000\n",
      "Epoch 7/12\n",
      "300/300 [==============================] - 4s 12ms/step - loss: 0.0014 - acc: 1.0000\n",
      "Epoch 8/12\n",
      "300/300 [==============================] - 4s 12ms/step - loss: 0.0920 - acc: 0.9800\n",
      "Epoch 9/12\n",
      "300/300 [==============================] - 4s 12ms/step - loss: 0.0019 - acc: 1.0000\n",
      "Epoch 10/12\n",
      "300/300 [==============================] - 4s 12ms/step - loss: 9.4143e-04 - acc: 1.0000\n",
      "Epoch 11/12\n",
      "300/300 [==============================] - 4s 12ms/step - loss: 6.2495e-04 - acc: 1.0000\n",
      "Epoch 12/12\n",
      "300/300 [==============================] - 4s 12ms/step - loss: 4.6693e-04 - acc: 1.0000\n"
     ]
    },
    {
     "data": {
      "text/plain": [
       "<keras.callbacks.History at 0x7f8155b4e250>"
      ]
     },
     "execution_count": 14,
     "metadata": {},
     "output_type": "execute_result"
    }
   ],
   "source": [
    "model.compile(loss='categorical_crossentropy', metrics=['accuracy'], optimizer='RMSProp')\n",
    "model.fit(x_train.reshape(300,64,64,1), y_train, batch_size=32, epochs=12)"
   ]
  },
  {
   "cell_type": "code",
   "execution_count": 15,
   "metadata": {},
   "outputs": [
    {
     "name": "stdout",
     "output_type": "stream",
     "text": [
      "100/100 [==============================] - 0s 3ms/step\n"
     ]
    },
    {
     "data": {
      "text/plain": [
       "[0.2766281354427338, 0.93]"
      ]
     },
     "execution_count": 15,
     "metadata": {},
     "output_type": "execute_result"
    }
   ],
   "source": [
    "result = model.evaluate(x_test.reshape(100,64,64,1), y_test, batch_size=32, verbose=1)\n",
    "result"
   ]
  },
  {
   "cell_type": "code",
   "execution_count": null,
   "metadata": {},
   "outputs": [],
   "source": []
  }
 ],
 "metadata": {
  "kernelspec": {
   "display_name": "Python 3",
   "language": "python",
   "name": "python3"
  },
  "language_info": {
   "codemirror_mode": {
    "name": "ipython",
    "version": 3
   },
   "file_extension": ".py",
   "mimetype": "text/x-python",
   "name": "python",
   "nbconvert_exporter": "python",
   "pygments_lexer": "ipython3",
   "version": "3.7.1"
  }
 },
 "nbformat": 4,
 "nbformat_minor": 2
}
