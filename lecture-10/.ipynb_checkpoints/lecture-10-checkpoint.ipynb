{
 "cells": [
  {
   "cell_type": "markdown",
   "metadata": {},
   "source": [
    "## Iterative solutions of equations\n",
    "\n",
    "Consider the following simple problem: assume we have a real valued function $f(x)$ and we would like to solve the equation \n",
    "\n",
    "$$ f(x) = c $$\n",
    "\n",
    "for some constant $c$.  Let us also assume that we made a guess $f(x_0) = c$.  Of course, unless we are extremely lucky, we are not going to hit the result. So, there will be an error:\n",
    "\n",
    "$$ f(x_0) = c + \\delta $$\n",
    "\n",
    "Now, using this error, let us improve our guess:\n",
    "\n",
    "$$ f(x_0) - \\delta = c $$\n",
    "\n",
    "But we want $\\delta$ to effect $x_0$.  Assuming we have a *local inverse* we get\n",
    "\n",
    "$$ f^{-1}(f(x_0) - \\delta) = f^{-1}(c) = a $$\n",
    "\n",
    "where $a$ is the solution we need to find.  Now, let us write the first order Taylor approximation for the left hand side:\n",
    "\n",
    "$$ x_0 - (f^{-1})'(x_0) \\cdot \\delta \\approx a $$\n",
    "\n",
    "and we know that $(f^{-1})'(x_0) = \\frac{1}{f'(x_0)}$\n",
    "\n",
    "So, our next best guess is going to be\n",
    "\n",
    "$$ x_1 = x_0 - \\frac{\\delta}{f'(x_0)} $$\n",
    "\n",
    "If we convert this formula into an iterative approximation, we get\n",
    "\n",
    "$$ x_{n+1} = x_n - \\frac{\\delta_n}{f'(x_n)} $$\n",
    "\n",
    "where $\\delta_n = f(x_n) - c$\n",
    "\n",
    "This algorithm is called [Newton-Raphson algorithm](https://en.wikipedia.org/wiki/Newton%27s_method)."
   ]
  },
  {
   "cell_type": "code",
   "execution_count": 83,
   "metadata": {},
   "outputs": [],
   "source": [
    "import math\n",
    "import numpy as np"
   ]
  },
  {
   "cell_type": "code",
   "execution_count": 289,
   "metadata": {},
   "outputs": [],
   "source": [
    "def Solve(f, c, x0, eta=1e-2, n=10000):\n",
    "    for i in range(n):\n",
    "        delta = f(x0) - c\n",
    "        der = (f(x0+eta/2) - f(x0-eta/2))/eta\n",
    "        x1 = x0-delta/(der+eta*np.random.rand())\n",
    "        if(abs(x0-x1)<eta):\n",
    "            break\n",
    "        else: \n",
    "            x0 = x1\n",
    "    return([i,x1])"
   ]
  },
  {
   "cell_type": "code",
   "execution_count": 290,
   "metadata": {},
   "outputs": [],
   "source": [
    "def fn(x):\n",
    "    y = x*x\n",
    "    return(1.0 + math.cos(y+0.2)+math.log(0.24+y))"
   ]
  },
  {
   "cell_type": "code",
   "execution_count": 292,
   "metadata": {},
   "outputs": [
    {
     "data": {
      "text/plain": [
       "[6, 1.773431818624471, 1.2400000056592415]"
      ]
     },
     "execution_count": 292,
     "metadata": {},
     "output_type": "execute_result"
    }
   ],
   "source": [
    "x = Solve(fn,1.24,1.0,1e-4)\n",
    "[x[0],x[1],fn(x[1])]"
   ]
  },
  {
   "cell_type": "markdown",
   "metadata": {},
   "source": [
    "## Multiple variable case (steepest descent)\n",
    "\n",
    "We can develop a similar algorithm for functions with several variables. That algorithm is called [steepest descent algorithm](https://ocw.mit.edu/courses/mathematics/18-409-topics-in-theoretical-computer-science-an-algorithmists-toolkit-fall-2009/lecture-notes/MIT18_409F09_scribe21.pdf):\n",
    "\n",
    "Given a function $F(x_1,\\ldots,x_n)$ the direction in which $F$ changes the most is the gradient of $F$ which is defined as\n",
    "\n",
    "$$ \\nabla \\cdot F = \\left(\\frac{\\partial F}{\\partial x_1},\\ldots,\\frac{\\partial F}{\\partial x_n}\\right) $$\n",
    "\n",
    "So, if we start with an initial guess $a^{(0)}$ for $F(a_1^{(0)},\\ldots,a_n^{(0)}) = c$, the update rule is going to be\n",
    "\n",
    "$$ a^{(m+1)} = a^{(m)} - \\eta \\left(\\nabla\\cdot F\\right)(a_1^{(m)},\\ldots,a_n^{(m)}) $$\n",
    "\n",
    "where $\\eta$ is called *the learning rate*.\n",
    "\n",
    "![](images/steepest_descent.png)"
   ]
  },
  {
   "cell_type": "code",
   "execution_count": 293,
   "metadata": {},
   "outputs": [],
   "source": [
    "def grad(f,x,eta=1e-4):\n",
    "    def delta(i,j): \n",
    "        if(i==j): return(1) \n",
    "        else: return(0)\n",
    "    def der(f,x,i,eta=1e-4):\n",
    "        vec = np.array([delta(i,j) for j in range(len(x))])\n",
    "        x1 = x + vec*eta/2\n",
    "        x0 = x - vec*eta/2\n",
    "        return((f(x1) - f(x0) + eta*np.random.rand())/eta)\n",
    "    return(np.array([der(f,x,i,eta) for i in range(len(x))]))"
   ]
  },
  {
   "cell_type": "code",
   "execution_count": 302,
   "metadata": {},
   "outputs": [],
   "source": [
    "def MSolve(f,c,x0,eta=1e-4,n=1000):\n",
    "    for i in range(n):\n",
    "        delta = f(x0) - c\n",
    "        x1 = x0 - delta*eta*grad(f,x0,eta)\n",
    "        err = np.linalg.norm(x1-x0)\n",
    "        if(err < eta):\n",
    "            break\n",
    "        else:\n",
    "            x0 = x1\n",
    "    return([i,x1])"
   ]
  },
  {
   "cell_type": "code",
   "execution_count": 307,
   "metadata": {},
   "outputs": [
    {
     "data": {
      "text/plain": [
       "[34, array([  9.99082162, -11.00619549])]"
      ]
     },
     "execution_count": 307,
     "metadata": {},
     "output_type": "execute_result"
    }
   ],
   "source": [
    "def g(x):\n",
    "    y = x[0]*x[0]+x[1]*x[1]\n",
    "    return(1.0+math.atan(y)+math.log(1.0+y))\n",
    "\n",
    "MSolve(g,3.0,[10.0,-11.0])"
   ]
  },
  {
   "cell_type": "code",
   "execution_count": null,
   "metadata": {},
   "outputs": [],
   "source": []
  },
  {
   "cell_type": "code",
   "execution_count": 89,
   "metadata": {},
   "outputs": [
    {
     "data": {
      "text/plain": [
       "1.4142135623730951"
      ]
     },
     "execution_count": 89,
     "metadata": {},
     "output_type": "execute_result"
    }
   ],
   "source": [
    "np.linalg.norm(np.array([1,1]))"
   ]
  },
  {
   "cell_type": "code",
   "execution_count": 127,
   "metadata": {},
   "outputs": [
    {
     "data": {
      "text/plain": [
       "0.7850920424666409"
      ]
     },
     "execution_count": 127,
     "metadata": {},
     "output_type": "execute_result"
    }
   ],
   "source": [
    "np.random.rand()"
   ]
  },
  {
   "cell_type": "code",
   "execution_count": null,
   "metadata": {},
   "outputs": [],
   "source": []
  }
 ],
 "metadata": {
  "kernelspec": {
   "display_name": "Python 3",
   "language": "python",
   "name": "python3"
  },
  "language_info": {
   "codemirror_mode": {
    "name": "ipython",
    "version": 3
   },
   "file_extension": ".py",
   "mimetype": "text/x-python",
   "name": "python",
   "nbconvert_exporter": "python",
   "pygments_lexer": "ipython3",
   "version": "3.6.7"
  }
 },
 "nbformat": 4,
 "nbformat_minor": 1
}
