{
 "cells": [
  {
   "cell_type": "markdown",
   "metadata": {},
   "source": [
    "# Decision Trees\n",
    "\n",
    "## Uniformity of data\n",
    "\n",
    "Let us start with a question: how do we test if a collection of data points is *more uniform* than another set of data points.  For example if we had the following datasets, which is more *random* and which is more *self-similar*?"
   ]
  },
  {
   "cell_type": "code",
   "execution_count": 1,
   "metadata": {},
   "outputs": [],
   "source": [
    "data1 <- c(0,1,0,1,1,1,0,0,0,1)\n",
    "data2 <- c(0,0,0,0,0,0,0,0,0,0)"
   ]
  },
  {
   "cell_type": "markdown",
   "metadata": {},
   "source": [
    "## Entropy\n",
    "\n",
    "Let us assume we have a discrete collection of points $\\{x_1,\\ldots,x_N\\}$ where each $x_i$ is chosen from a fixed finite set $D=\\{a_1,\\ldots,a_k\\}$, and by counting the number of occurences of each $a_i$ we get a *finite probability distribution*:\n",
    "\n",
    "$$ p(a_i) = \\frac{n_i}{N} $$\n",
    "\n",
    "So, for example for the datasets above:"
   ]
  },
  {
   "cell_type": "code",
   "execution_count": 2,
   "metadata": {},
   "outputs": [
    {
     "data": {
      "text/plain": [
       "data1\n",
       "0 1 \n",
       "5 5 "
      ]
     },
     "metadata": {},
     "output_type": "display_data"
    },
    {
     "data": {
      "text/plain": [
       "data2\n",
       " 0 \n",
       "10 "
      ]
     },
     "metadata": {},
     "output_type": "display_data"
    }
   ],
   "source": [
    "table(data1)\n",
    "table(data2)"
   ]
  },
  {
   "cell_type": "markdown",
   "metadata": {},
   "source": [
    "The entropy of a dataset is defined as *the expected value* of the negative of the logarithm of the probabilities.  This measures the randomness of our data:\n",
    "\n",
    "$$ H(D) = -\\sum_i p_i\\log_2(p_i) $$\n",
    "\n",
    "Let us calculate this for the datasets we had:"
   ]
  },
  {
   "cell_type": "code",
   "execution_count": 3,
   "metadata": {},
   "outputs": [],
   "source": [
    "fn <- function(x){\n",
    "    if(x==0.0)\n",
    "        return(0.0)\n",
    "    else \n",
    "        return(x*log(x))\n",
    "}\n",
    "\n",
    "entropy <- function(xs) {\n",
    "    temp <- table(xs)/length(xs)\n",
    "    ent <- 0.0\n",
    "    for(i in 1:length(temp))\n",
    "        ent = ent + fn(temp[i])\n",
    "    return(-ent/log(2))\n",
    "} "
   ]
  },
  {
   "cell_type": "code",
   "execution_count": 4,
   "metadata": {},
   "outputs": [
    {
     "data": {
      "text/html": [
       "<strong>0:</strong> 1"
      ],
      "text/latex": [
       "\\textbf{0:} 1"
      ],
      "text/markdown": [
       "**0:** 1"
      ],
      "text/plain": [
       "0 \n",
       "1 "
      ]
     },
     "metadata": {},
     "output_type": "display_data"
    },
    {
     "data": {
      "text/html": [
       "<strong>0:</strong> 0"
      ],
      "text/latex": [
       "\\textbf{0:} 0"
      ],
      "text/markdown": [
       "**0:** 0"
      ],
      "text/plain": [
       "0 \n",
       "0 "
      ]
     },
     "metadata": {},
     "output_type": "display_data"
    }
   ],
   "source": [
    "entropy(data1)\n",
    "entropy(data2)"
   ]
  },
  {
   "cell_type": "markdown",
   "metadata": {},
   "source": [
    "## The Gini coefficient\n",
    "\n",
    "The gini coefficient is invented by econometricists to measure the amount of inequality within a dataset.  Assume $\\{x_1,\\ldots,x_N\\}$ measures the income levels of a population.  The gini coefficient for the economic inequality is then calculated as\n",
    "\n",
    "$$ \\frac{\\sum_{i,j} |x_i-x_j|}{2N\\sum_i x_i} $$\n",
    "\n",
    "This is better expressed in terms of expected value of the differences within the population:\n",
    "\n",
    "$$ \\sum_{i<j} p(x_i)p(x_j)|x_i - x_j| = \\frac{1}{2 N^2}\\sum_{i,j} n_i n_j |x_i - x_j| $$"
   ]
  },
  {
   "cell_type": "code",
   "execution_count": 5,
   "metadata": {},
   "outputs": [
    {
     "data": {
      "text/html": [
       "0.25"
      ],
      "text/latex": [
       "0.25"
      ],
      "text/markdown": [
       "0.25"
      ],
      "text/plain": [
       "[1] 0.25"
      ]
     },
     "metadata": {},
     "output_type": "display_data"
    },
    {
     "data": {
      "text/html": [
       "0"
      ],
      "text/latex": [
       "0"
      ],
      "text/markdown": [
       "0"
      ],
      "text/plain": [
       "[1] 0"
      ]
     },
     "metadata": {},
     "output_type": "display_data"
    }
   ],
   "source": [
    "gini1 <- (0.5)*(0.5)*abs(0-1)\n",
    "gini2 <- (0.0)*(1.0)*abs(0-1)\n",
    "gini1\n",
    "gini2"
   ]
  },
  {
   "cell_type": "markdown",
   "metadata": {},
   "source": [
    "## Decision Trees\n",
    "\n",
    "The algorithm is based on the following simple idea: split the data set into finitely many pieces such that each piece is uniform within itself.  This means each piece must have very small entropy or gini coefficient."
   ]
  },
  {
   "cell_type": "code",
   "execution_count": 6,
   "metadata": {},
   "outputs": [
    {
     "data": {
      "text/html": [
       "<table>\n",
       "<thead><tr><th scope=col>column1</th><th scope=col>column2</th></tr></thead>\n",
       "<tbody>\n",
       "\t<tr><td>1</td><td>1</td></tr>\n",
       "\t<tr><td>1</td><td>0</td></tr>\n",
       "\t<tr><td>1</td><td>1</td></tr>\n",
       "\t<tr><td>0</td><td>0</td></tr>\n",
       "</tbody>\n",
       "</table>\n"
      ],
      "text/latex": [
       "\\begin{tabular}{ll}\n",
       " column1 & column2\\\\\n",
       "\\hline\n",
       "\t 1 & 1\\\\\n",
       "\t 1 & 0\\\\\n",
       "\t 1 & 1\\\\\n",
       "\t 0 & 0\\\\\n",
       "\\end{tabular}\n"
      ],
      "text/markdown": [
       "\n",
       "column1 | column2 | \n",
       "|---|---|---|---|\n",
       "| 1 | 1 | \n",
       "| 1 | 0 | \n",
       "| 1 | 1 | \n",
       "| 0 | 0 | \n",
       "\n",
       "\n"
      ],
      "text/plain": [
       "     column1 column2\n",
       "[1,] 1       1      \n",
       "[2,] 1       0      \n",
       "[3,] 1       1      \n",
       "[4,] 0       0      "
      ]
     },
     "metadata": {},
     "output_type": "display_data"
    }
   ],
   "source": [
    "column1 <- c(1,1,1,0)\n",
    "column2 <- c(1,0,1,0)\n",
    "data <- cbind(column1,column2)\n",
    "data"
   ]
  },
  {
   "cell_type": "markdown",
   "metadata": {},
   "source": [
    "Which of the following groupings is better?"
   ]
  },
  {
   "cell_type": "code",
   "execution_count": 7,
   "metadata": {},
   "outputs": [],
   "source": [
    "grouping1 <- c(c(0),c(1,0,1))\n",
    "grouping2 <- c(c(1,1),c(1,0))"
   ]
  },
  {
   "cell_type": "markdown",
   "metadata": {},
   "source": [
    "### Information gain (or relative entropy)\n",
    "\n",
    "Information gain of a feature is the entropy of that column. For the data above, the entropies of each column is calculated as"
   ]
  },
  {
   "cell_type": "code",
   "execution_count": 8,
   "metadata": {},
   "outputs": [
    {
     "data": {
      "text/html": [
       "<strong>0:</strong> 0.811278124459133"
      ],
      "text/latex": [
       "\\textbf{0:} 0.811278124459133"
      ],
      "text/markdown": [
       "**0:** 0.811278124459133"
      ],
      "text/plain": [
       "        0 \n",
       "0.8112781 "
      ]
     },
     "metadata": {},
     "output_type": "display_data"
    },
    {
     "data": {
      "text/html": [
       "<strong>0:</strong> 1"
      ],
      "text/latex": [
       "\\textbf{0:} 1"
      ],
      "text/markdown": [
       "**0:** 1"
      ],
      "text/plain": [
       "0 \n",
       "1 "
      ]
     },
     "metadata": {},
     "output_type": "display_data"
    }
   ],
   "source": [
    "entropy(column1)\n",
    "entropy(column2)"
   ]
  },
  {
   "cell_type": "markdown",
   "metadata": {},
   "source": [
    "So, we need to prefer the column with the largest entropy to split the dataset.\n",
    "\n",
    "If the data is continous, then we split the data at some point $x_0$ such that we get two classes, say 'left' and 'right' where points $a$ with $a<x_0$ are labelled as 'left' and points $a>x_0$ are labelled as 'right'. Among all possible splittings, we should prefer the one with the largest entropy.  We then recursively split the data set until we achieve uniform subsets.\n",
    "\n",
    "\n",
    "### An example\n",
    "\n",
    "Let us look at the iris dataset in R:"
   ]
  },
  {
   "cell_type": "code",
   "execution_count": 9,
   "metadata": {},
   "outputs": [
    {
     "data": {
      "text/html": [
       "<table>\n",
       "<thead><tr><th scope=col>Sepal.Length</th><th scope=col>Sepal.Width</th><th scope=col>Petal.Length</th><th scope=col>Petal.Width</th><th scope=col>Species</th></tr></thead>\n",
       "<tbody>\n",
       "\t<tr><td>5.1   </td><td>3.5   </td><td>1.4   </td><td>0.2   </td><td>setosa</td></tr>\n",
       "\t<tr><td>4.9   </td><td>3.0   </td><td>1.4   </td><td>0.2   </td><td>setosa</td></tr>\n",
       "\t<tr><td>4.7   </td><td>3.2   </td><td>1.3   </td><td>0.2   </td><td>setosa</td></tr>\n",
       "\t<tr><td>4.6   </td><td>3.1   </td><td>1.5   </td><td>0.2   </td><td>setosa</td></tr>\n",
       "\t<tr><td>5.0   </td><td>3.6   </td><td>1.4   </td><td>0.2   </td><td>setosa</td></tr>\n",
       "\t<tr><td>5.4   </td><td>3.9   </td><td>1.7   </td><td>0.4   </td><td>setosa</td></tr>\n",
       "</tbody>\n",
       "</table>\n"
      ],
      "text/latex": [
       "\\begin{tabular}{r|lllll}\n",
       " Sepal.Length & Sepal.Width & Petal.Length & Petal.Width & Species\\\\\n",
       "\\hline\n",
       "\t 5.1    & 3.5    & 1.4    & 0.2    & setosa\\\\\n",
       "\t 4.9    & 3.0    & 1.4    & 0.2    & setosa\\\\\n",
       "\t 4.7    & 3.2    & 1.3    & 0.2    & setosa\\\\\n",
       "\t 4.6    & 3.1    & 1.5    & 0.2    & setosa\\\\\n",
       "\t 5.0    & 3.6    & 1.4    & 0.2    & setosa\\\\\n",
       "\t 5.4    & 3.9    & 1.7    & 0.4    & setosa\\\\\n",
       "\\end{tabular}\n"
      ],
      "text/markdown": [
       "\n",
       "Sepal.Length | Sepal.Width | Petal.Length | Petal.Width | Species | \n",
       "|---|---|---|---|---|---|\n",
       "| 5.1    | 3.5    | 1.4    | 0.2    | setosa | \n",
       "| 4.9    | 3.0    | 1.4    | 0.2    | setosa | \n",
       "| 4.7    | 3.2    | 1.3    | 0.2    | setosa | \n",
       "| 4.6    | 3.1    | 1.5    | 0.2    | setosa | \n",
       "| 5.0    | 3.6    | 1.4    | 0.2    | setosa | \n",
       "| 5.4    | 3.9    | 1.7    | 0.4    | setosa | \n",
       "\n",
       "\n"
      ],
      "text/plain": [
       "  Sepal.Length Sepal.Width Petal.Length Petal.Width Species\n",
       "1 5.1          3.5         1.4          0.2         setosa \n",
       "2 4.9          3.0         1.4          0.2         setosa \n",
       "3 4.7          3.2         1.3          0.2         setosa \n",
       "4 4.6          3.1         1.5          0.2         setosa \n",
       "5 5.0          3.6         1.4          0.2         setosa \n",
       "6 5.4          3.9         1.7          0.4         setosa "
      ]
     },
     "metadata": {},
     "output_type": "display_data"
    }
   ],
   "source": [
    "library(rpart)\n",
    "library(rpart.plot)\n",
    "\n",
    "head(iris)\n",
    "test <- sample(1:150,50)\n",
    "testData <- iris[test,]\n",
    "trainData <- iris[-test,]"
   ]
  },
  {
   "cell_type": "code",
   "execution_count": 10,
   "metadata": {},
   "outputs": [
    {
     "data": {
      "text/html": [
       "<table>\n",
       "<thead><tr><th></th><th scope=col>Species</th><th scope=col>seto vers virg </th><th scope=col></th><th scope=col></th><th scope=col></th><th scope=col></th><th scope=col></th><th scope=col></th><th scope=col></th><th scope=col></th></tr></thead>\n",
       "<tbody>\n",
       "\t<tr><th scope=row>2</th><td><span style=white-space:pre-wrap>setosa    </span>      </td><td><span style=white-space:pre-wrap>[1.00  .00  .00]</span></td><td>when                                                    </td><td>Petal.Length                                            </td><td>&lt;                                                    </td><td>2.6                                                     </td><td>                                                        </td><td><span style=white-space:pre-wrap>           </span>     </td><td><span style=white-space:pre-wrap>  </span>              </td><td><span style=white-space:pre-wrap>   </span>             </td></tr>\n",
       "\t<tr><th scope=row>6</th><td>versicolor                                              </td><td><span style=white-space:pre-wrap>[ .00  .89  .11]</span></td><td>when                                                    </td><td>Petal.Length                                            </td><td>&gt;=                                                   </td><td>2.6                                                     </td><td>&amp;                                                   </td><td>Petal.Width                                             </td><td>&lt;                                                    </td><td>1.8                                                     </td></tr>\n",
       "\t<tr><th scope=row>7</th><td>virginica                                               </td><td><span style=white-space:pre-wrap>[ .00  .04  .96]</span></td><td>when                                                    </td><td>Petal.Length                                            </td><td>&gt;=                                                   </td><td>2.6                                                     </td><td>&amp;                                                   </td><td>Petal.Width                                             </td><td>&gt;=                                                   </td><td>1.8                                                     </td></tr>\n",
       "</tbody>\n",
       "</table>\n"
      ],
      "text/latex": [
       "\\begin{tabular}{r|llllllllll}\n",
       "  & Species & seto vers virg  &  &  &  &  &  &  &  & \\\\\n",
       "\\hline\n",
       "\t2 & setosa               & {[}1.00  .00  .00{]} & when                 & Petal.Length         & <                    & 2.6                  &                      &                      &                      &                     \\\\\n",
       "\t6 & versicolor           & {[} .00  .89  .11{]} & when                 & Petal.Length         & >=                   & 2.6                  & \\&                  & Petal.Width          & <                    & 1.8                 \\\\\n",
       "\t7 & virginica            & {[} .00  .04  .96{]} & when                 & Petal.Length         & >=                   & 2.6                  & \\&                  & Petal.Width          & >=                   & 1.8                 \\\\\n",
       "\\end{tabular}\n"
      ],
      "text/markdown": [
       "\n",
       "| <!--/--> | Species | seto vers virg  |  |  |  |  |  |  |  |  | \n",
       "|---|---|---|\n",
       "| 2 | setosa           | [1.00  .00  .00] | when             | Petal.Length     | <                | 2.6              |                  |                  |                  |                  | \n",
       "| 6 | versicolor       | [ .00  .89  .11] | when             | Petal.Length     | >=               | 2.6              | &                | Petal.Width      | <                | 1.8              | \n",
       "| 7 | virginica        | [ .00  .04  .96] | when             | Petal.Length     | >=               | 2.6              | &                | Petal.Width      | >=               | 1.8              | \n",
       "\n",
       "\n"
      ],
      "text/plain": [
       "  Species    seto vers virg                                                \n",
       "2 setosa     [1.00  .00  .00] when Petal.Length <  2.6                     \n",
       "6 versicolor [ .00  .89  .11] when Petal.Length >= 2.6 & Petal.Width <  1.8\n",
       "7 virginica  [ .00  .04  .96] when Petal.Length >= 2.6 & Petal.Width >= 1.8"
      ]
     },
     "metadata": {},
     "output_type": "display_data"
    },
    {
     "data": {
      "image/png": "[encoded data removed]",
      "text/plain": [
       "plot without title"
      ]
     },
     "metadata": {},
     "output_type": "display_data"
    }
   ],
   "source": [
    "model <- rpart(Species ~ . , data=trainData)\n",
    "rpart.plot(model, type = 5, clip.right.labs = TRUE, branch = 1, under = TRUE)\n",
    "rpart.rules(model)"
   ]
  },
  {
   "cell_type": "code",
   "execution_count": 11,
   "metadata": {},
   "outputs": [
    {
     "data": {
      "text/html": [
       "<table>\n",
       "<thead><tr><th></th><th scope=col>setosa</th><th scope=col>versicolor</th><th scope=col>virginica</th></tr></thead>\n",
       "<tbody>\n",
       "\t<tr><th scope=row>59</th><td>0        </td><td>0.8947368</td><td>0.1052632</td></tr>\n",
       "\t<tr><th scope=row>102</th><td>0        </td><td>0.0400000</td><td>0.9600000</td></tr>\n",
       "\t<tr><th scope=row>95</th><td>0        </td><td>0.8947368</td><td>0.1052632</td></tr>\n",
       "\t<tr><th scope=row>41</th><td>1        </td><td>0.0000000</td><td>0.0000000</td></tr>\n",
       "\t<tr><th scope=row>145</th><td>0        </td><td>0.0400000</td><td>0.9600000</td></tr>\n",
       "\t<tr><th scope=row>15</th><td>1        </td><td>0.0000000</td><td>0.0000000</td></tr>\n",
       "</tbody>\n",
       "</table>\n"
      ],
      "text/latex": [
       "\\begin{tabular}{r|lll}\n",
       "  & setosa & versicolor & virginica\\\\\n",
       "\\hline\n",
       "\t59 & 0         & 0.8947368 & 0.1052632\\\\\n",
       "\t102 & 0         & 0.0400000 & 0.9600000\\\\\n",
       "\t95 & 0         & 0.8947368 & 0.1052632\\\\\n",
       "\t41 & 1         & 0.0000000 & 0.0000000\\\\\n",
       "\t145 & 0         & 0.0400000 & 0.9600000\\\\\n",
       "\t15 & 1         & 0.0000000 & 0.0000000\\\\\n",
       "\\end{tabular}\n"
      ],
      "text/markdown": [
       "\n",
       "| <!--/--> | setosa | versicolor | virginica | \n",
       "|---|---|---|---|---|---|\n",
       "| 59 | 0         | 0.8947368 | 0.1052632 | \n",
       "| 102 | 0         | 0.0400000 | 0.9600000 | \n",
       "| 95 | 0         | 0.8947368 | 0.1052632 | \n",
       "| 41 | 1         | 0.0000000 | 0.0000000 | \n",
       "| 145 | 0         | 0.0400000 | 0.9600000 | \n",
       "| 15 | 1         | 0.0000000 | 0.0000000 | \n",
       "\n",
       "\n"
      ],
      "text/plain": [
       "    setosa versicolor virginica\n",
       "59  0      0.8947368  0.1052632\n",
       "102 0      0.0400000  0.9600000\n",
       "95  0      0.8947368  0.1052632\n",
       "41  1      0.0000000  0.0000000\n",
       "145 0      0.0400000  0.9600000\n",
       "15  1      0.0000000  0.0000000"
      ]
     },
     "metadata": {},
     "output_type": "display_data"
    },
    {
     "data": {
      "text/plain": [
       "            real\n",
       "predicted    setosa versicolor virginica\n",
       "  setosa         13          0         0\n",
       "  versicolor      0         15         1\n",
       "  virginica       0          0        21"
      ]
     },
     "metadata": {},
     "output_type": "display_data"
    }
   ],
   "source": [
    "temp <- predict(model,testData)\n",
    "head(temp)\n",
    "predicted <- c()\n",
    "for(i in 1:nrow(temp)) \n",
    "    predicted <- c(predicted,names(which.max(temp[i,])))\n",
    "\n",
    "table(predicted,real=testData$Species)"
   ]
  },
  {
   "cell_type": "markdown",
   "metadata": {},
   "source": [
    "### Another example"
   ]
  },
  {
   "cell_type": "code",
   "execution_count": 12,
   "metadata": {},
   "outputs": [
    {
     "data": {
      "text/html": [
       "<table>\n",
       "<thead><tr><th scope=col>Creditability</th><th scope=col>Account.Balance</th><th scope=col>Duration.of.Credit..month.</th><th scope=col>Payment.Status.of.Previous.Credit</th><th scope=col>Purpose</th><th scope=col>Credit.Amount</th><th scope=col>Value.Savings.Stocks</th><th scope=col>Length.of.current.employment</th><th scope=col>Instalment.per.cent</th><th scope=col>Sex...Marital.Status</th><th scope=col>⋯</th><th scope=col>Duration.in.Current.address</th><th scope=col>Most.valuable.available.asset</th><th scope=col>Age..years.</th><th scope=col>Concurrent.Credits</th><th scope=col>Type.of.apartment</th><th scope=col>No.of.Credits.at.this.Bank</th><th scope=col>Occupation</th><th scope=col>No.of.dependents</th><th scope=col>Telephone</th><th scope=col>Foreign.Worker</th></tr></thead>\n",
       "<tbody>\n",
       "\t<tr><td>1   </td><td>1   </td><td>18  </td><td>4   </td><td>2   </td><td>1049</td><td>1   </td><td>2   </td><td>4   </td><td>2   </td><td>⋯   </td><td>4   </td><td>2   </td><td>21  </td><td>3   </td><td>1   </td><td>1   </td><td>3   </td><td>1   </td><td>1   </td><td>1   </td></tr>\n",
       "\t<tr><td>1   </td><td>1   </td><td> 9  </td><td>4   </td><td>0   </td><td>2799</td><td>1   </td><td>3   </td><td>2   </td><td>3   </td><td>⋯   </td><td>2   </td><td>1   </td><td>36  </td><td>3   </td><td>1   </td><td>2   </td><td>3   </td><td>2   </td><td>1   </td><td>1   </td></tr>\n",
       "\t<tr><td>1   </td><td>2   </td><td>12  </td><td>2   </td><td>9   </td><td> 841</td><td>2   </td><td>4   </td><td>2   </td><td>2   </td><td>⋯   </td><td>4   </td><td>1   </td><td>23  </td><td>3   </td><td>1   </td><td>1   </td><td>2   </td><td>1   </td><td>1   </td><td>1   </td></tr>\n",
       "\t<tr><td>1   </td><td>1   </td><td>12  </td><td>4   </td><td>0   </td><td>2122</td><td>1   </td><td>3   </td><td>3   </td><td>3   </td><td>⋯   </td><td>2   </td><td>1   </td><td>39  </td><td>3   </td><td>1   </td><td>2   </td><td>2   </td><td>2   </td><td>1   </td><td>2   </td></tr>\n",
       "\t<tr><td>1   </td><td>1   </td><td>12  </td><td>4   </td><td>0   </td><td>2171</td><td>1   </td><td>3   </td><td>4   </td><td>3   </td><td>⋯   </td><td>4   </td><td>2   </td><td>38  </td><td>1   </td><td>2   </td><td>2   </td><td>2   </td><td>1   </td><td>1   </td><td>2   </td></tr>\n",
       "\t<tr><td>1   </td><td>1   </td><td>10  </td><td>4   </td><td>0   </td><td>2241</td><td>1   </td><td>2   </td><td>1   </td><td>3   </td><td>⋯   </td><td>3   </td><td>1   </td><td>48  </td><td>3   </td><td>1   </td><td>2   </td><td>2   </td><td>2   </td><td>1   </td><td>2   </td></tr>\n",
       "</tbody>\n",
       "</table>\n"
      ],
      "text/latex": [
       "\\begin{tabular}{r|lllllllllllllllllllll}\n",
       " Creditability & Account.Balance & Duration.of.Credit..month. & Payment.Status.of.Previous.Credit & Purpose & Credit.Amount & Value.Savings.Stocks & Length.of.current.employment & Instalment.per.cent & Sex...Marital.Status & ⋯ & Duration.in.Current.address & Most.valuable.available.asset & Age..years. & Concurrent.Credits & Type.of.apartment & No.of.Credits.at.this.Bank & Occupation & No.of.dependents & Telephone & Foreign.Worker\\\\\n",
       "\\hline\n",
       "\t 1    & 1    & 18   & 4    & 2    & 1049 & 1    & 2    & 4    & 2    & ⋯    & 4    & 2    & 21   & 3    & 1    & 1    & 3    & 1    & 1    & 1   \\\\\n",
       "\t 1    & 1    &  9   & 4    & 0    & 2799 & 1    & 3    & 2    & 3    & ⋯    & 2    & 1    & 36   & 3    & 1    & 2    & 3    & 2    & 1    & 1   \\\\\n",
       "\t 1    & 2    & 12   & 2    & 9    &  841 & 2    & 4    & 2    & 2    & ⋯    & 4    & 1    & 23   & 3    & 1    & 1    & 2    & 1    & 1    & 1   \\\\\n",
       "\t 1    & 1    & 12   & 4    & 0    & 2122 & 1    & 3    & 3    & 3    & ⋯    & 2    & 1    & 39   & 3    & 1    & 2    & 2    & 2    & 1    & 2   \\\\\n",
       "\t 1    & 1    & 12   & 4    & 0    & 2171 & 1    & 3    & 4    & 3    & ⋯    & 4    & 2    & 38   & 1    & 2    & 2    & 2    & 1    & 1    & 2   \\\\\n",
       "\t 1    & 1    & 10   & 4    & 0    & 2241 & 1    & 2    & 1    & 3    & ⋯    & 3    & 1    & 48   & 3    & 1    & 2    & 2    & 2    & 1    & 2   \\\\\n",
       "\\end{tabular}\n"
      ],
      "text/markdown": [
       "\n",
       "Creditability | Account.Balance | Duration.of.Credit..month. | Payment.Status.of.Previous.Credit | Purpose | Credit.Amount | Value.Savings.Stocks | Length.of.current.employment | Instalment.per.cent | Sex...Marital.Status | ⋯ | Duration.in.Current.address | Most.valuable.available.asset | Age..years. | Concurrent.Credits | Type.of.apartment | No.of.Credits.at.this.Bank | Occupation | No.of.dependents | Telephone | Foreign.Worker | \n",
       "|---|---|---|---|---|---|\n",
       "| 1    | 1    | 18   | 4    | 2    | 1049 | 1    | 2    | 4    | 2    | ⋯    | 4    | 2    | 21   | 3    | 1    | 1    | 3    | 1    | 1    | 1    | \n",
       "| 1    | 1    |  9   | 4    | 0    | 2799 | 1    | 3    | 2    | 3    | ⋯    | 2    | 1    | 36   | 3    | 1    | 2    | 3    | 2    | 1    | 1    | \n",
       "| 1    | 2    | 12   | 2    | 9    |  841 | 2    | 4    | 2    | 2    | ⋯    | 4    | 1    | 23   | 3    | 1    | 1    | 2    | 1    | 1    | 1    | \n",
       "| 1    | 1    | 12   | 4    | 0    | 2122 | 1    | 3    | 3    | 3    | ⋯    | 2    | 1    | 39   | 3    | 1    | 2    | 2    | 2    | 1    | 2    | \n",
       "| 1    | 1    | 12   | 4    | 0    | 2171 | 1    | 3    | 4    | 3    | ⋯    | 4    | 2    | 38   | 1    | 2    | 2    | 2    | 1    | 1    | 2    | \n",
       "| 1    | 1    | 10   | 4    | 0    | 2241 | 1    | 2    | 1    | 3    | ⋯    | 3    | 1    | 48   | 3    | 1    | 2    | 2    | 2    | 1    | 2    | \n",
       "\n",
       "\n"
      ],
      "text/plain": [
       "  Creditability Account.Balance Duration.of.Credit..month.\n",
       "1 1             1               18                        \n",
       "2 1             1                9                        \n",
       "3 1             2               12                        \n",
       "4 1             1               12                        \n",
       "5 1             1               12                        \n",
       "6 1             1               10                        \n",
       "  Payment.Status.of.Previous.Credit Purpose Credit.Amount Value.Savings.Stocks\n",
       "1 4                                 2       1049          1                   \n",
       "2 4                                 0       2799          1                   \n",
       "3 2                                 9        841          2                   \n",
       "4 4                                 0       2122          1                   \n",
       "5 4                                 0       2171          1                   \n",
       "6 4                                 0       2241          1                   \n",
       "  Length.of.current.employment Instalment.per.cent Sex...Marital.Status ⋯\n",
       "1 2                            4                   2                    ⋯\n",
       "2 3                            2                   3                    ⋯\n",
       "3 4                            2                   2                    ⋯\n",
       "4 3                            3                   3                    ⋯\n",
       "5 3                            4                   3                    ⋯\n",
       "6 2                            1                   3                    ⋯\n",
       "  Duration.in.Current.address Most.valuable.available.asset Age..years.\n",
       "1 4                           2                             21         \n",
       "2 2                           1                             36         \n",
       "3 4                           1                             23         \n",
       "4 2                           1                             39         \n",
       "5 4                           2                             38         \n",
       "6 3                           1                             48         \n",
       "  Concurrent.Credits Type.of.apartment No.of.Credits.at.this.Bank Occupation\n",
       "1 3                  1                 1                          3         \n",
       "2 3                  1                 2                          3         \n",
       "3 3                  1                 1                          2         \n",
       "4 3                  1                 2                          2         \n",
       "5 1                  2                 2                          2         \n",
       "6 3                  1                 2                          2         \n",
       "  No.of.dependents Telephone Foreign.Worker\n",
       "1 1                1         1             \n",
       "2 2                1         1             \n",
       "3 1                1         1             \n",
       "4 2                1         2             \n",
       "5 1                1         2             \n",
       "6 2                1         2             "
      ]
     },
     "metadata": {},
     "output_type": "display_data"
    }
   ],
   "source": [
    "german <- read.csv(\"http://freakonometrics.free.fr/german_credit.csv\")\n",
    "german$Creditability <- factor(german$Creditability)\n",
    "head(german)"
   ]
  },
  {
   "cell_type": "code",
   "execution_count": 13,
   "metadata": {},
   "outputs": [
    {
     "data": {
      "image/png": "[encoded data removed]",
      "text/plain": [
       "plot without title"
      ]
     },
     "metadata": {},
     "output_type": "display_data"
    }
   ],
   "source": [
    "M <- nrow(german)\n",
    "test <- sample(1:M,0.25*M)\n",
    "testData <- german[test,]\n",
    "trainData <- german[-test,]\n",
    "model <- rpart(Creditability ~ . , data=trainData)\n",
    "rpart.plot(model, type = 5, clip.right.labs = TRUE, branch = .1, under = TRUE)"
   ]
  },
  {
   "cell_type": "code",
   "execution_count": 14,
   "metadata": {},
   "outputs": [
    {
     "data": {
      "text/plain": [
       "   real\n",
       "      0   1\n",
       "  0  44  41\n",
       "  1  27 138"
      ]
     },
     "metadata": {},
     "output_type": "display_data"
    }
   ],
   "source": [
    "temp <- predict(model,testData)\n",
    "predicted <- ifelse(temp>0.8,1,0)\n",
    "table(predicted[,2],real=testData$Creditability)"
   ]
  },
  {
   "cell_type": "markdown",
   "metadata": {},
   "source": [
    "# Decision Tree Regression\n",
    "\n",
    "Instead of splitting the data and classifying it with respect to a feature, we can run a *regression* using decision trees. The aim of the Decision-Tree-Regression is to split the data such that we get response variable as *locally constant*."
   ]
  },
  {
   "cell_type": "code",
   "execution_count": 15,
   "metadata": {},
   "outputs": [
    {
     "data": {
      "text/html": [
       "<table>\n",
       "<thead><tr><th></th><th scope=col>Volume</th><th scope=col></th><th scope=col></th><th scope=col></th><th scope=col></th><th scope=col></th><th scope=col></th></tr></thead>\n",
       "<tbody>\n",
       "\t<tr><th scope=row>4</th><td>18                                        </td><td>when                                      </td><td>Girth                                     </td><td>&lt;                                      </td><td>12                                        </td><td><span style=white-space:pre-wrap>  </span></td><td><span style=white-space:pre-wrap>  </span></td></tr>\n",
       "\t<tr><th scope=row>5</th><td>31   </td><td>when </td><td>Girth</td><td>is   </td><td>12   </td><td>to   </td><td>16   </td></tr>\n",
       "\t<tr><th scope=row>3</th><td>56                                        </td><td>when                                      </td><td>Girth                                     </td><td>&gt;=                                     </td><td><span style=white-space:pre-wrap>  </span></td><td><span style=white-space:pre-wrap>  </span></td><td>16                                        </td></tr>\n",
       "</tbody>\n",
       "</table>\n"
      ],
      "text/latex": [
       "\\begin{tabular}{r|lllllll}\n",
       "  & Volume &  &  &  &  &  & \\\\\n",
       "\\hline\n",
       "\t4 & 18    & when  & Girth & <     & 12    &       &      \\\\\n",
       "\t5 & 31    & when  & Girth & is    & 12    & to    & 16   \\\\\n",
       "\t3 & 56    & when  & Girth & >=    &       &       & 16   \\\\\n",
       "\\end{tabular}\n"
      ],
      "text/markdown": [
       "\n",
       "| <!--/--> | Volume |  |  |  |  |  |  | \n",
       "|---|---|---|\n",
       "| 4 | 18    | when  | Girth | <     | 12    |       |       | \n",
       "| 5 | 31    | when  | Girth | is    | 12    | to    | 16    | \n",
       "| 3 | 56    | when  | Girth | >=    |       |       | 16    | \n",
       "\n",
       "\n"
      ],
      "text/plain": [
       "  Volume                       \n",
       "4 18     when Girth <  12      \n",
       "5 31     when Girth is 12 to 16\n",
       "3 56     when Girth >=       16"
      ]
     },
     "metadata": {},
     "output_type": "display_data"
    },
    {
     "data": {
      "image/png": "[encoded data removed]",
      "text/plain": [
       "plot without title"
      ]
     },
     "metadata": {},
     "output_type": "display_data"
    }
   ],
   "source": [
    "model <- rpart(Volume ~ . , data=trees)\n",
    "rpart.plot(model, type=5, under=TRUE)\n",
    "rpart.rules(model)"
   ]
  },
  {
   "cell_type": "markdown",
   "metadata": {},
   "source": [
    "# Random Forests\n",
    "\n",
    "Random forests is an ensemble machine learning algorithm: Ensemble algorithms combine several ML algorithms which may individually be not very successful, and yet used together yield a better result. In the case of random forests, the algorithm constructs several decision trees and then combine the result."
   ]
  },
  {
   "cell_type": "code",
   "execution_count": 16,
   "metadata": {},
   "outputs": [
    {
     "name": "stderr",
     "output_type": "stream",
     "text": [
      "randomForest 4.6-14\n",
      "Type rfNews() to see new features/changes/bug fixes.\n"
     ]
    },
    {
     "data": {
      "text/plain": [
       "\n",
       "Call:\n",
       " randomForest(formula = Species ~ ., data = iris) \n",
       "               Type of random forest: classification\n",
       "                     Number of trees: 500\n",
       "No. of variables tried at each split: 2\n",
       "\n",
       "        OOB estimate of  error rate: 4%\n",
       "Confusion matrix:\n",
       "           setosa versicolor virginica class.error\n",
       "setosa         50          0         0        0.00\n",
       "versicolor      0         47         3        0.06\n",
       "virginica       0          3        47        0.06"
      ]
     },
     "metadata": {},
     "output_type": "display_data"
    },
    {
     "data": {
      "text/plain": [
       "\n",
       "Call:\n",
       " randomForest(formula = Creditability ~ ., data = german) \n",
       "               Type of random forest: classification\n",
       "                     Number of trees: 500\n",
       "No. of variables tried at each split: 4\n",
       "\n",
       "        OOB estimate of  error rate: 23.5%\n",
       "Confusion matrix:\n",
       "    0   1 class.error\n",
       "0 130 170  0.56666667\n",
       "1  65 635  0.09285714"
      ]
     },
     "metadata": {},
     "output_type": "display_data"
    },
    {
     "data": {
      "text/plain": [
       "\n",
       "Call:\n",
       " randomForest(formula = Volume ~ ., data = trees) \n",
       "               Type of random forest: regression\n",
       "                     Number of trees: 500\n",
       "No. of variables tried at each split: 1\n",
       "\n",
       "          Mean of squared residuals: 46.47578\n",
       "                    % Var explained: 82.23"
      ]
     },
     "metadata": {},
     "output_type": "display_data"
    }
   ],
   "source": [
    "library(randomForest)\n",
    "\n",
    "randomForest(Species ~ . , data=iris)\n",
    "randomForest(Creditability ~ . , data=german)\n",
    "randomForest(Volume ~ . , data=trees)"
   ]
  },
  {
   "cell_type": "code",
   "execution_count": 17,
   "metadata": {},
   "outputs": [
    {
     "data": {
      "text/plain": [
       "\n",
       "Call:\n",
       " randomForest(formula = chas ~ ., data = Boston) \n",
       "               Type of random forest: classification\n",
       "                     Number of trees: 500\n",
       "No. of variables tried at each split: 3\n",
       "\n",
       "        OOB estimate of  error rate: 8.5%\n",
       "Confusion matrix:\n",
       "    0 1 class.error\n",
       "0 462 9  0.01910828\n",
       "1  34 1  0.97142857"
      ]
     },
     "metadata": {},
     "output_type": "display_data"
    }
   ],
   "source": [
    "library(MASS)\n",
    "\n",
    "Boston$chas <- factor(Boston$chas)\n",
    "\n",
    "randomForest(chas ~ . , data=Boston)"
   ]
  },
  {
   "cell_type": "code",
   "execution_count": 18,
   "metadata": {},
   "outputs": [
    {
     "data": {
      "text/plain": [
       "\n",
       "Call:\n",
       " randomForest(formula = medv ~ ., data = trainData) \n",
       "               Type of random forest: regression\n",
       "                     Number of trees: 500\n",
       "No. of variables tried at each split: 4\n",
       "\n",
       "          Mean of squared residuals: 11.73719\n",
       "                    % Var explained: 85.67"
      ]
     },
     "metadata": {},
     "output_type": "display_data"
    }
   ],
   "source": [
    "N <- nrow(Boston)\n",
    "test <- sample(1:N, 0.25*N)\n",
    "testData <- Boston[test,]\n",
    "trainData <- Boston[-test,]\n",
    "model <- randomForest(medv ~ . , data=trainData)\n",
    "model"
   ]
  },
  {
   "cell_type": "code",
   "execution_count": 19,
   "metadata": {},
   "outputs": [
    {
     "data": {
      "text/html": [
       "9.92898548932072"
      ],
      "text/latex": [
       "9.92898548932072"
      ],
      "text/markdown": [
       "9.92898548932072"
      ],
      "text/plain": [
       "[1] 9.928985"
      ]
     },
     "metadata": {},
     "output_type": "display_data"
    }
   ],
   "source": [
    "mean(mapply(function(x) { x*x }, predict(model,testData)-testData$medv))"
   ]
  }
 ],
 "metadata": {
  "kernelspec": {
   "display_name": "R",
   "language": "R",
   "name": "ir"
  },
  "language_info": {
   "codemirror_mode": "r",
   "file_extension": ".r",
   "mimetype": "text/x-r-source",
   "name": "R",
   "pygments_lexer": "r",
   "version": "3.5.1"
  }
 },
 "nbformat": 4,
 "nbformat_minor": 2
}
