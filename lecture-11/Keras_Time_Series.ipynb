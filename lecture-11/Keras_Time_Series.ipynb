{
 "cells": [
  {
   "cell_type": "code",
   "execution_count": 231,
   "metadata": {},
   "outputs": [],
   "source": [
    "from urllib.request import urlopen\n",
    "from xmltodict import parse\n",
    "import matplotlib.pyplot as plt\n",
    "import pandas as pd\n",
    "import numpy as np\n",
    "\n",
    "from sklearn.preprocessing import Normalizer\n",
    "\n",
    "from keras.models import Sequential\n",
    "from keras.layers import Dense, LSTM, Dropout, Conv1D\n",
    "from keras.optimizers import Adam, Adamax, RMSprop, SGD\n",
    "\n",
    "import keras.backend as K"
   ]
  },
  {
   "cell_type": "code",
   "execution_count": 232,
   "metadata": {},
   "outputs": [],
   "source": [
    "def QueryECB(series):\n",
    "    raw1 = urlopen(\"https://sdw-wsrest.ecb.europa.eu/service/data/EXR/\" + series + \".SP00.A\")\n",
    "    raw2 = raw1.read().decode('utf8')\n",
    "    raw3 = parse(raw2)\n",
    "    raw4 = raw3['message:GenericData']['message:DataSet']['generic:Series']['generic:Obs']\n",
    "    res = {x['generic:ObsDimension']['@value']: \n",
    "           float(x['generic:ObsValue']['@value'])\n",
    "           for x in raw4}\n",
    "    return res"
   ]
  },
  {
   "cell_type": "code",
   "execution_count": 233,
   "metadata": {},
   "outputs": [],
   "source": [
    "cad = QueryECB(\"D.CAD.EUR\")\n",
    "usd = QueryECB(\"D.USD.EUR\")"
   ]
  },
  {
   "cell_type": "code",
   "execution_count": 234,
   "metadata": {},
   "outputs": [
    {
     "data": {
      "text/html": [
       "<div>\n",
       "<style scoped>\n",
       "    .dataframe tbody tr th:only-of-type {\n",
       "        vertical-align: middle;\n",
       "    }\n",
       "\n",
       "    .dataframe tbody tr th {\n",
       "        vertical-align: top;\n",
       "    }\n",
       "\n",
       "    .dataframe thead th {\n",
       "        text-align: right;\n",
       "    }\n",
       "</style>\n",
       "<table border=\"1\" class=\"dataframe\">\n",
       "  <thead>\n",
       "    <tr style=\"text-align: right;\">\n",
       "      <th></th>\n",
       "      <th>CAD/EUR</th>\n",
       "      <th>USD/EUR</th>\n",
       "    </tr>\n",
       "  </thead>\n",
       "  <tbody>\n",
       "    <tr>\n",
       "      <th>1999-01-04</th>\n",
       "      <td>1.8004</td>\n",
       "      <td>1.1789</td>\n",
       "    </tr>\n",
       "    <tr>\n",
       "      <th>1999-01-05</th>\n",
       "      <td>1.7965</td>\n",
       "      <td>1.1790</td>\n",
       "    </tr>\n",
       "    <tr>\n",
       "      <th>1999-01-06</th>\n",
       "      <td>1.7711</td>\n",
       "      <td>1.1743</td>\n",
       "    </tr>\n",
       "    <tr>\n",
       "      <th>1999-01-07</th>\n",
       "      <td>1.7602</td>\n",
       "      <td>1.1632</td>\n",
       "    </tr>\n",
       "    <tr>\n",
       "      <th>1999-01-08</th>\n",
       "      <td>1.7643</td>\n",
       "      <td>1.1659</td>\n",
       "    </tr>\n",
       "    <tr>\n",
       "      <th>1999-01-11</th>\n",
       "      <td>1.7463</td>\n",
       "      <td>1.1569</td>\n",
       "    </tr>\n",
       "    <tr>\n",
       "      <th>1999-01-12</th>\n",
       "      <td>1.7392</td>\n",
       "      <td>1.1520</td>\n",
       "    </tr>\n",
       "    <tr>\n",
       "      <th>1999-01-13</th>\n",
       "      <td>1.8123</td>\n",
       "      <td>1.1744</td>\n",
       "    </tr>\n",
       "    <tr>\n",
       "      <th>1999-01-14</th>\n",
       "      <td>1.7707</td>\n",
       "      <td>1.1653</td>\n",
       "    </tr>\n",
       "    <tr>\n",
       "      <th>1999-01-15</th>\n",
       "      <td>1.7797</td>\n",
       "      <td>1.1626</td>\n",
       "    </tr>\n",
       "  </tbody>\n",
       "</table>\n",
       "</div>"
      ],
      "text/plain": [
       "            CAD/EUR  USD/EUR\n",
       "1999-01-04   1.8004   1.1789\n",
       "1999-01-05   1.7965   1.1790\n",
       "1999-01-06   1.7711   1.1743\n",
       "1999-01-07   1.7602   1.1632\n",
       "1999-01-08   1.7643   1.1659\n",
       "1999-01-11   1.7463   1.1569\n",
       "1999-01-12   1.7392   1.1520\n",
       "1999-01-13   1.8123   1.1744\n",
       "1999-01-14   1.7707   1.1653\n",
       "1999-01-15   1.7797   1.1626"
      ]
     },
     "execution_count": 234,
     "metadata": {},
     "output_type": "execute_result"
    }
   ],
   "source": [
    "df = pd.DataFrame({'CAD/EUR': [x for x in cad.values()], \n",
    "                   'USD/EUR': [x for x in usd.values()]}, \n",
    "                  [x for x in usd.keys()])\n",
    "df.head(10)"
   ]
  },
  {
   "cell_type": "code",
   "execution_count": 235,
   "metadata": {},
   "outputs": [],
   "source": [
    "df.iloc[:,1] = df.iloc[:,1].shift(1)"
   ]
  },
  {
   "cell_type": "code",
   "execution_count": 236,
   "metadata": {},
   "outputs": [],
   "source": [
    "df = df.dropna()\n",
    "\n",
    "sc = Normalizer()\n",
    "df_sc = sc.fit_transform(df)\n",
    "\n",
    "train = df_sc[:4500,]\n",
    "test = df_sc[4500:4860,]\n",
    "\n",
    "x_train = train[:,0]\n",
    "y_train = train[:,1]\n",
    "x_test = test[:,0]\n",
    "y_test = test[:,1]"
   ]
  },
  {
   "cell_type": "code",
   "execution_count": 237,
   "metadata": {},
   "outputs": [
    {
     "name": "stdout",
     "output_type": "stream",
     "text": [
      "Epoch 1/20\n",
      "4500/4500 [==============================] - 2s 447us/step - loss: 0.0848\n",
      "Epoch 2/20\n",
      "4500/4500 [==============================] - 2s 382us/step - loss: 0.0285\n",
      "Epoch 3/20\n",
      "4500/4500 [==============================] - 2s 433us/step - loss: 0.0161\n",
      "Epoch 4/20\n",
      "4500/4500 [==============================] - 2s 437us/step - loss: 0.0137\n",
      "Epoch 5/20\n",
      "4500/4500 [==============================] - 2s 396us/step - loss: 0.0118\n",
      "Epoch 6/20\n",
      "4500/4500 [==============================] - 2s 423us/step - loss: 0.0101\n",
      "Epoch 7/20\n",
      "4500/4500 [==============================] - 2s 386us/step - loss: 0.0090\n",
      "Epoch 8/20\n",
      "4500/4500 [==============================] - 2s 371us/step - loss: 0.0080\n",
      "Epoch 9/20\n",
      "4500/4500 [==============================] - 2s 425us/step - loss: 0.0070\n",
      "Epoch 10/20\n",
      "4500/4500 [==============================] - 2s 415us/step - loss: 0.0062\n",
      "Epoch 11/20\n",
      "4500/4500 [==============================] - 2s 415us/step - loss: 0.0061\n",
      "Epoch 12/20\n",
      "4500/4500 [==============================] - 2s 400us/step - loss: 0.0053\n",
      "Epoch 13/20\n",
      "4500/4500 [==============================] - 2s 426us/step - loss: 0.0052\n",
      "Epoch 14/20\n",
      "4500/4500 [==============================] - 2s 395us/step - loss: 0.0053\n",
      "Epoch 15/20\n",
      "4500/4500 [==============================] - 2s 419us/step - loss: 0.0048\n",
      "Epoch 16/20\n",
      "4500/4500 [==============================] - 2s 405us/step - loss: 0.0044\n",
      "Epoch 17/20\n",
      "4500/4500 [==============================] - 2s 389us/step - loss: 0.0042\n",
      "Epoch 18/20\n",
      "4500/4500 [==============================] - 2s 421us/step - loss: 0.0042\n",
      "Epoch 19/20\n",
      "4500/4500 [==============================] - 2s 408us/step - loss: 0.0041\n",
      "Epoch 20/20\n",
      "4500/4500 [==============================] - 2s 415us/step - loss: 0.0041\n"
     ]
    },
    {
     "data": {
      "text/plain": [
       "<keras.callbacks.History at 0x7ff7bda5deb8>"
      ]
     },
     "execution_count": 237,
     "metadata": {},
     "output_type": "execute_result"
    }
   ],
   "source": [
    "K.clear_session()\n",
    "\n",
    "model = Sequential()\n",
    "\n",
    "model.add(Dense(30, input_shape=(1,), activation='relu', kernel_initializer='lecun_uniform'))\n",
    "model.add(Dropout(0.05))\n",
    "model.add(Dense(20, activation='relu'))\n",
    "model.add(Dropout(0.01))\n",
    "model.add(Dense(1, activation='relu'))\n",
    "\n",
    "model.compile(optimizer=Adamax(lr=0.004), loss='mean_absolute_error')\n",
    "model.fit(x_train, y_train, batch_size=5, epochs=20, verbose=1)"
   ]
  },
  {
   "cell_type": "code",
   "execution_count": 242,
   "metadata": {},
   "outputs": [
    {
     "data": {
      "text/plain": [
       "[<matplotlib.lines.Line2D at 0x7ff7bacb8390>]"
      ]
     },
     "execution_count": 242,
     "metadata": {},
     "output_type": "execute_result"
    },
    {
     "data": {
      "image/png": "[encoded data removed]",
      "text/plain": [
       "<Figure size 432x288 with 1 Axes>"
      ]
     },
     "metadata": {},
     "output_type": "display_data"
    }
   ],
   "source": [
    "y_pred = model.predict(x_test)\n",
    "ys = [(a-b)[0] for a in y_pred for b in y_test]\n",
    "plt.plot(ys)\n",
    "#plt.plot(y_test)\n",
    "#plt.plot(y_pred-y_test)"
   ]
  },
  {
   "cell_type": "code",
   "execution_count": 243,
   "metadata": {},
   "outputs": [
    {
     "name": "stdout",
     "output_type": "stream",
     "text": [
      "Epoch 1/10\n",
      "50/50 [==============================] - 2s 41ms/step - loss: 0.1341\n",
      "Epoch 2/10\n",
      "50/50 [==============================] - 1s 18ms/step - loss: 0.0106\n",
      "Epoch 3/10\n",
      "50/50 [==============================] - 1s 19ms/step - loss: 0.0109\n",
      "Epoch 4/10\n",
      "50/50 [==============================] - 1s 18ms/step - loss: 0.0111\n",
      "Epoch 5/10\n",
      "50/50 [==============================] - 1s 17ms/step - loss: 0.0105\n",
      "Epoch 6/10\n",
      "50/50 [==============================] - 1s 21ms/step - loss: 0.0107\n",
      "Epoch 7/10\n",
      "50/50 [==============================] - 1s 21ms/step - loss: 0.0106\n",
      "Epoch 8/10\n",
      "50/50 [==============================] - 1s 18ms/step - loss: 0.0103\n",
      "Epoch 9/10\n",
      "50/50 [==============================] - 1s 20ms/step - loss: 0.0099\n",
      "Epoch 10/10\n",
      "50/50 [==============================] - 1s 17ms/step - loss: 0.0099\n"
     ]
    },
    {
     "data": {
      "text/plain": [
       "<keras.callbacks.History at 0x7ff7bac64588>"
      ]
     },
     "execution_count": 243,
     "metadata": {},
     "output_type": "execute_result"
    }
   ],
   "source": [
    "K.clear_session()\n",
    "model = Sequential()\n",
    "\n",
    "model.add(Dense(80, activation='sigmoid'))\n",
    "model.add(Dropout(0.1))\n",
    "model.add(LSTM(20,\n",
    "              return_sequences=True,\n",
    "              activation='tanh'))\n",
    "model.add(Dense(1, activation='relu'))\n",
    "\n",
    "model.compile(optimizer=SGD(lr=0.01), loss='mean_squared_error')\n",
    "model.fit(x_train.reshape(50,90,1), y_train.reshape(50,90,1), batch_size=5, epochs=10, verbose=1)"
   ]
  },
  {
   "cell_type": "code",
   "execution_count": 244,
   "metadata": {},
   "outputs": [
    {
     "data": {
      "text/plain": [
       "[<matplotlib.lines.Line2D at 0x7ff7b84bc6a0>]"
      ]
     },
     "execution_count": 244,
     "metadata": {},
     "output_type": "execute_result"
    },
    {
     "data": {
      "image/png": "[encoded data removed]",
      "text/plain": [
       "<Figure size 432x288 with 1 Axes>"
      ]
     },
     "metadata": {},
     "output_type": "display_data"
    }
   ],
   "source": [
    "y_pred = model.predict(x_test.reshape(4,90,1))\n",
    "\n",
    "plt.plot(y_test)\n",
    "plt.plot(y_pred.reshape(360))"
   ]
  },
  {
   "cell_type": "code",
   "execution_count": null,
   "metadata": {},
   "outputs": [],
   "source": []
  }
 ],
 "metadata": {
  "kernelspec": {
   "display_name": "Python 3",
   "language": "python",
   "name": "python3"
  },
  "language_info": {
   "codemirror_mode": {
    "name": "ipython",
    "version": 3
   },
   "file_extension": ".py",
   "mimetype": "text/x-python",
   "name": "python",
   "nbconvert_exporter": "python",
   "pygments_lexer": "ipython3",
   "version": "3.6.7"
  }
 },
 "nbformat": 4,
 "nbformat_minor": 2
}
